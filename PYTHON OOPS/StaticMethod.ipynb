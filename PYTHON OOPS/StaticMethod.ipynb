{
 "cells": [
  {
   "cell_type": "code",
   "execution_count": 1,
   "id": "f94f522e",
   "metadata": {},
   "outputs": [],
   "source": [
    "class pwskills:\n",
    "    def student_details(self,name,mail_id,number):\n",
    "        print(name,mail_id,number)"
   ]
  },
  {
   "cell_type": "code",
   "execution_count": 2,
   "id": "6d12aad8",
   "metadata": {},
   "outputs": [],
   "source": [
    "pw = pwskills()"
   ]
  },
  {
   "cell_type": "code",
   "execution_count": 3,
   "id": "993529a5",
   "metadata": {},
   "outputs": [
    {
     "name": "stdout",
     "output_type": "stream",
     "text": [
      "sudh sudh@gmail.com 9337232738\n"
     ]
    }
   ],
   "source": [
    "pw.student_details(\"sudh\",\"sudh@gmail.com\",9337232738)"
   ]
  },
  {
   "cell_type": "code",
   "execution_count": 8,
   "id": "a3449db4",
   "metadata": {},
   "outputs": [],
   "source": [
    "class pwskills1:\n",
    "    def student_details(self,name,mail_id,number):\n",
    "        print(name,mail_id,number)\n",
    "        \n",
    "    @staticmethod\n",
    "    def mentor_class(list_mentor):\n",
    "        print(list_mentor)\n",
    "    \n",
    "    def mentor(self,mentor_list):\n",
    "        print(mentor_list)"
   ]
  },
  {
   "cell_type": "code",
   "execution_count": 9,
   "id": "a48c1f5c",
   "metadata": {},
   "outputs": [],
   "source": [
    "pw1 = pwskills1()"
   ]
  },
  {
   "cell_type": "code",
   "execution_count": 10,
   "id": "8071c828",
   "metadata": {},
   "outputs": [
    {
     "name": "stdout",
     "output_type": "stream",
     "text": [
      "['kris', 'sudh']\n"
     ]
    }
   ],
   "source": [
    "pw1.mentor([\"kris\",\"sudh\"])"
   ]
  },
  {
   "cell_type": "code",
   "execution_count": 11,
   "id": "adc055df",
   "metadata": {},
   "outputs": [
    {
     "name": "stdout",
     "output_type": "stream",
     "text": [
      "['sudh', 'naik']\n"
     ]
    }
   ],
   "source": [
    "pw1.mentor_class([\"sudh\",\"naik\"])"
   ]
  },
  {
   "cell_type": "code",
   "execution_count": 12,
   "id": "b5a738e0",
   "metadata": {},
   "outputs": [
    {
     "name": "stdout",
     "output_type": "stream",
     "text": [
      "['sudh', 'kris']\n"
     ]
    }
   ],
   "source": [
    "pwskills1.mentor_class([\"sudh\",\"kris\"])"
   ]
  },
  {
   "cell_type": "code",
   "execution_count": 16,
   "id": "3ba1e7c5",
   "metadata": {},
   "outputs": [],
   "source": [
    "class pwskills2:\n",
    "    def student_details(self,name,mail_id,number):\n",
    "        print(name,mail_id,number)\n",
    "       \n",
    "    @staticmethod\n",
    "    def mentor_mail_id(mail_id):\n",
    "        print(mail_id)\n",
    "        \n",
    "    @staticmethod\n",
    "    def mentor_class(list_mentor):\n",
    "        print(list_mentor)\n",
    "        pwskills2.mentor_mail_id([\"krish@gmail.com\",\"sudh@gmail.com\"])\n",
    "        \n",
    "    @classmethod\n",
    "    def class_name(cls,class_name):\n",
    "        cls.mentor_class([\"sudh\",\"krish\"])\n",
    "    \n",
    "    def mentor(self,mentor_list):\n",
    "        print(mentor_list)\n",
    "        self.mentor_class([\"krish\",\"sudh\"])"
   ]
  },
  {
   "cell_type": "code",
   "execution_count": 17,
   "id": "7691f12a",
   "metadata": {},
   "outputs": [],
   "source": [
    "pw2 = pwskills2()"
   ]
  },
  {
   "cell_type": "code",
   "execution_count": 18,
   "id": "e6e76a9f",
   "metadata": {},
   "outputs": [
    {
     "name": "stdout",
     "output_type": "stream",
     "text": [
      "mohan mohan@gmail.com 8554334556\n"
     ]
    }
   ],
   "source": [
    "pw2.student_details(\"mohan\",\"mohan@gmail.com\",8554334556)"
   ]
  },
  {
   "cell_type": "code",
   "execution_count": 19,
   "id": "32d56f98",
   "metadata": {},
   "outputs": [
    {
     "name": "stdout",
     "output_type": "stream",
     "text": [
      "['krish@gmail.com', 'sudh@gmail.com']\n"
     ]
    }
   ],
   "source": [
    "pw2.mentor_mail_id([\"krish@gmail.com\",\"sudh@gmail.com\"])"
   ]
  },
  {
   "cell_type": "code",
   "execution_count": 20,
   "id": "a8d5d639",
   "metadata": {},
   "outputs": [
    {
     "name": "stdout",
     "output_type": "stream",
     "text": [
      "['sudh', 'krish']\n",
      "['krish@gmail.com', 'sudh@gmail.com']\n"
     ]
    }
   ],
   "source": [
    "pw2.class_name(\"data science masters\")"
   ]
  },
  {
   "cell_type": "code",
   "execution_count": 21,
   "id": "ffccf9f9",
   "metadata": {},
   "outputs": [
    {
     "name": "stdout",
     "output_type": "stream",
     "text": [
      "['krish@gmail.com', 'sudh@gmail.com']\n"
     ]
    }
   ],
   "source": [
    "pwskills2.mentor_mail_id([\"krish@gmail.com\",\"sudh@gmail.com\"])"
   ]
  },
  {
   "cell_type": "code",
   "execution_count": null,
   "id": "c621c274",
   "metadata": {},
   "outputs": [],
   "source": []
  }
 ],
 "metadata": {
  "kernelspec": {
   "display_name": "Python 3 (ipykernel)",
   "language": "python",
   "name": "python3"
  },
  "language_info": {
   "codemirror_mode": {
    "name": "ipython",
    "version": 3
   },
   "file_extension": ".py",
   "mimetype": "text/x-python",
   "name": "python",
   "nbconvert_exporter": "python",
   "pygments_lexer": "ipython3",
   "version": "3.9.13"
  }
 },
 "nbformat": 4,
 "nbformat_minor": 5
}
