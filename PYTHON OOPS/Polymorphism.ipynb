{
 "cells": [
  {
   "cell_type": "code",
   "execution_count": 1,
   "id": "160cc0b5",
   "metadata": {},
   "outputs": [],
   "source": [
    "def test(a,b):\n",
    "    return a+b"
   ]
  },
  {
   "cell_type": "code",
   "execution_count": 2,
   "id": "0156acdb",
   "metadata": {},
   "outputs": [
    {
     "data": {
      "text/plain": [
       "5"
      ]
     },
     "execution_count": 2,
     "metadata": {},
     "output_type": "execute_result"
    }
   ],
   "source": [
    "test(2,3)"
   ]
  },
  {
   "cell_type": "code",
   "execution_count": 3,
   "id": "85d56b6d",
   "metadata": {},
   "outputs": [
    {
     "data": {
      "text/plain": [
       "'ronak goyal'"
      ]
     },
     "execution_count": 3,
     "metadata": {},
     "output_type": "execute_result"
    }
   ],
   "source": [
    "test(\"ronak \",\"goyal\")"
   ]
  },
  {
   "cell_type": "code",
   "execution_count": 4,
   "id": "2d4533e7",
   "metadata": {},
   "outputs": [
    {
     "data": {
      "text/plain": [
       "[1, 2, 3, 4, 5, 6, 7, 8]"
      ]
     },
     "execution_count": 4,
     "metadata": {},
     "output_type": "execute_result"
    }
   ],
   "source": [
    "test([1,2,3,4],[5,6,7,8])"
   ]
  },
  {
   "cell_type": "code",
   "execution_count": 5,
   "id": "1db3cd07",
   "metadata": {},
   "outputs": [],
   "source": [
    "class data_science:\n",
    "    def syallbus(self):\n",
    "        print(\"this is my method for data science syallbus\")"
   ]
  },
  {
   "cell_type": "code",
   "execution_count": 6,
   "id": "9962ed79",
   "metadata": {},
   "outputs": [],
   "source": [
    "class web_dev:\n",
    "    def syallbus(self):\n",
    "        print(\"this is my method for web dev syallbus\")"
   ]
  },
  {
   "cell_type": "code",
   "execution_count": 7,
   "id": "38b9846c",
   "metadata": {},
   "outputs": [],
   "source": [
    "def class_parcer(class_obj):\n",
    "    for i in class_obj:\n",
    "        i.syallbus()"
   ]
  },
  {
   "cell_type": "code",
   "execution_count": 8,
   "id": "ccedf780",
   "metadata": {},
   "outputs": [],
   "source": [
    "obj_data_science = data_science()"
   ]
  },
  {
   "cell_type": "code",
   "execution_count": 9,
   "id": "50c0b8ae",
   "metadata": {},
   "outputs": [],
   "source": [
    "obj_web_dev = web_dev()"
   ]
  },
  {
   "cell_type": "code",
   "execution_count": 10,
   "id": "b38a26e7",
   "metadata": {},
   "outputs": [],
   "source": [
    "class_obj = [obj_data_science,obj_web_dev]"
   ]
  },
  {
   "cell_type": "code",
   "execution_count": 11,
   "id": "f6c17b76",
   "metadata": {},
   "outputs": [
    {
     "name": "stdout",
     "output_type": "stream",
     "text": [
      "this is my method for data science syallbus\n",
      "this is my method for web dev syallbus\n"
     ]
    }
   ],
   "source": [
    "class_parcer(class_obj)"
   ]
  },
  {
   "cell_type": "code",
   "execution_count": null,
   "id": "88d19379",
   "metadata": {},
   "outputs": [],
   "source": []
  }
 ],
 "metadata": {
  "kernelspec": {
   "display_name": "Python 3 (ipykernel)",
   "language": "python",
   "name": "python3"
  },
  "language_info": {
   "codemirror_mode": {
    "name": "ipython",
    "version": 3
   },
   "file_extension": ".py",
   "mimetype": "text/x-python",
   "name": "python",
   "nbconvert_exporter": "python",
   "pygments_lexer": "ipython3",
   "version": "3.9.13"
  }
 },
 "nbformat": 4,
 "nbformat_minor": 5
}
