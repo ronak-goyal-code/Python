{
 "cells": [
  {
   "cell_type": "code",
   "execution_count": 1,
   "id": "7e4f743d",
   "metadata": {},
   "outputs": [],
   "source": [
    "a = 10"
   ]
  },
  {
   "cell_type": "code",
   "execution_count": 2,
   "id": "4eb5ece7",
   "metadata": {},
   "outputs": [
    {
     "ename": "ZeroDivisionError",
     "evalue": "division by zero",
     "output_type": "error",
     "traceback": [
      "\u001b[1;31m---------------------------------------------------------------------------\u001b[0m",
      "\u001b[1;31mZeroDivisionError\u001b[0m                         Traceback (most recent call last)",
      "\u001b[1;32m~\\AppData\\Local\\Temp\\ipykernel_12676\\4102073204.py\u001b[0m in \u001b[0;36m<module>\u001b[1;34m\u001b[0m\n\u001b[1;32m----> 1\u001b[1;33m \u001b[0ma\u001b[0m\u001b[1;33m/\u001b[0m\u001b[1;36m0\u001b[0m\u001b[1;33m\u001b[0m\u001b[1;33m\u001b[0m\u001b[0m\n\u001b[0m",
      "\u001b[1;31mZeroDivisionError\u001b[0m: division by zero"
     ]
    }
   ],
   "source": [
    "a/0"
   ]
  },
  {
   "cell_type": "code",
   "execution_count": 4,
   "id": "5d31396a",
   "metadata": {},
   "outputs": [
    {
     "ename": "FileNotFoundError",
     "evalue": "[Errno 2] No such file or directory: 'etext.txt'",
     "output_type": "error",
     "traceback": [
      "\u001b[1;31m---------------------------------------------------------------------------\u001b[0m",
      "\u001b[1;31mFileNotFoundError\u001b[0m                         Traceback (most recent call last)",
      "\u001b[1;32m~\\AppData\\Local\\Temp\\ipykernel_12676\\1165440126.py\u001b[0m in \u001b[0;36m<module>\u001b[1;34m\u001b[0m\n\u001b[1;32m----> 1\u001b[1;33m \u001b[0mf\u001b[0m \u001b[1;33m=\u001b[0m \u001b[0mopen\u001b[0m\u001b[1;33m(\u001b[0m\u001b[1;34m\"etext.txt\"\u001b[0m\u001b[1;33m,\u001b[0m\u001b[1;34m\"r\"\u001b[0m\u001b[1;33m)\u001b[0m\u001b[1;33m\u001b[0m\u001b[1;33m\u001b[0m\u001b[0m\n\u001b[0m\u001b[0;32m      2\u001b[0m \u001b[0mprint\u001b[0m\u001b[1;33m(\u001b[0m\u001b[1;34m\"This is my print\"\u001b[0m\u001b[1;33m)\u001b[0m\u001b[1;33m\u001b[0m\u001b[1;33m\u001b[0m\u001b[0m\n",
      "\u001b[1;31mFileNotFoundError\u001b[0m: [Errno 2] No such file or directory: 'etext.txt'"
     ]
    }
   ],
   "source": [
    "f = open(\"etext.txt\",\"r\")\n",
    "print(\"This is my print\")"
   ]
  },
  {
   "cell_type": "code",
   "execution_count": 8,
   "id": "e741efce",
   "metadata": {},
   "outputs": [
    {
     "name": "stdout",
     "output_type": "stream",
     "text": [
      "There is some issue with my code [Errno 2] No such file or directory: 'etext.txt'\n",
      "this is my print\n"
     ]
    },
    {
     "data": {
      "text/plain": [
       "10"
      ]
     },
     "execution_count": 8,
     "metadata": {},
     "output_type": "execute_result"
    }
   ],
   "source": [
    "try:\n",
    "    f = open(\"etext.txt\",\"r\")\n",
    "except Exception as e :\n",
    "    print(\"There is some issue with my code\",e)\n",
    "print(\"this is my print\")\n",
    "a = 10\n",
    "a"
   ]
  },
  {
   "cell_type": "code",
   "execution_count": 10,
   "id": "ee01387b",
   "metadata": {},
   "outputs": [
    {
     "name": "stdout",
     "output_type": "stream",
     "text": [
      "this block will execute once try will execute itself without an exception\n"
     ]
    }
   ],
   "source": [
    "try:\n",
    "    f = open(\"etext.txt\",\"w\")\n",
    "    f.write(\"this is my msg\")\n",
    "except Exception as e :\n",
    "    print(\"There is some issue with my code\",e)\n",
    "else :\n",
    "    f.close()\n",
    "    print(\"this block will execute once try will execute itself without an exception\")"
   ]
  },
  {
   "cell_type": "code",
   "execution_count": 11,
   "id": "d392f338",
   "metadata": {},
   "outputs": [
    {
     "name": "stdout",
     "output_type": "stream",
     "text": [
      "There is some issue with my code [Errno 2] No such file or directory: 'etext1.txt'\n"
     ]
    }
   ],
   "source": [
    "try:\n",
    "    f = open(\"etext1.txt\",\"r\")\n",
    "    f.write(\"this is my msg\")\n",
    "except Exception as e :\n",
    "    print(\"There is some issue with my code\",e)\n",
    "else :\n",
    "    f.close()\n",
    "    print(\"this block will execute once try will execute itself without an exception\")"
   ]
  },
  {
   "cell_type": "code",
   "execution_count": 12,
   "id": "b4afab7c",
   "metadata": {},
   "outputs": [
    {
     "name": "stdout",
     "output_type": "stream",
     "text": [
      "this will always execute.\n"
     ]
    },
    {
     "ename": "FileNotFoundError",
     "evalue": "[Errno 2] No such file or directory: 'etext1.txt'",
     "output_type": "error",
     "traceback": [
      "\u001b[1;31m---------------------------------------------------------------------------\u001b[0m",
      "\u001b[1;31mFileNotFoundError\u001b[0m                         Traceback (most recent call last)",
      "\u001b[1;32m~\\AppData\\Local\\Temp\\ipykernel_12676\\1406908015.py\u001b[0m in \u001b[0;36m<module>\u001b[1;34m\u001b[0m\n\u001b[0;32m      1\u001b[0m \u001b[1;32mtry\u001b[0m\u001b[1;33m:\u001b[0m\u001b[1;33m\u001b[0m\u001b[1;33m\u001b[0m\u001b[0m\n\u001b[1;32m----> 2\u001b[1;33m     \u001b[0mf\u001b[0m \u001b[1;33m=\u001b[0m \u001b[0mopen\u001b[0m\u001b[1;33m(\u001b[0m\u001b[1;34m\"etext1.txt\"\u001b[0m\u001b[1;33m,\u001b[0m\u001b[1;34m\"r\"\u001b[0m\u001b[1;33m)\u001b[0m\u001b[1;33m\u001b[0m\u001b[1;33m\u001b[0m\u001b[0m\n\u001b[0m\u001b[0;32m      3\u001b[0m     \u001b[0mf\u001b[0m\u001b[1;33m.\u001b[0m\u001b[0mwrite\u001b[0m\u001b[1;33m(\u001b[0m\u001b[1;34m\"this is my msg\"\u001b[0m\u001b[1;33m)\u001b[0m\u001b[1;33m\u001b[0m\u001b[1;33m\u001b[0m\u001b[0m\n\u001b[0;32m      4\u001b[0m \u001b[1;32mfinally\u001b[0m \u001b[1;33m:\u001b[0m\u001b[1;33m\u001b[0m\u001b[1;33m\u001b[0m\u001b[0m\n\u001b[0;32m      5\u001b[0m     \u001b[0mprint\u001b[0m\u001b[1;33m(\u001b[0m\u001b[1;34m\"this will always execute.\"\u001b[0m\u001b[1;33m)\u001b[0m\u001b[1;33m\u001b[0m\u001b[1;33m\u001b[0m\u001b[0m\n",
      "\u001b[1;31mFileNotFoundError\u001b[0m: [Errno 2] No such file or directory: 'etext1.txt'"
     ]
    }
   ],
   "source": [
    "try:\n",
    "    f = open(\"etext1.txt\",\"r\")\n",
    "    f.write(\"this is my msg\")\n",
    "finally :\n",
    "    print(\"this will always execute.\")"
   ]
  },
  {
   "cell_type": "code",
   "execution_count": 13,
   "id": "63288b58",
   "metadata": {},
   "outputs": [
    {
     "name": "stdout",
     "output_type": "stream",
     "text": [
      "There is some issue with my code [Errno 2] No such file or directory: 'etext1.txt'\n",
      "I will execute always\n"
     ]
    }
   ],
   "source": [
    "try:\n",
    "    f = open(\"etext1.txt\",\"r\")\n",
    "    f.write(\"this is my msg\")\n",
    "except Exception as e :\n",
    "    print(\"There is some issue with my code\",e)\n",
    "else :\n",
    "    f.close()\n",
    "    print(\"this block will execute once try will execute itself without an exception\")\n",
    "finally:\n",
    "    print(\"I will execute always\")"
   ]
  },
  {
   "cell_type": "code",
   "execution_count": 14,
   "id": "5ab98e55",
   "metadata": {},
   "outputs": [
    {
     "name": "stdout",
     "output_type": "stream",
     "text": [
      "this block will execute once try will execute itself without an exception\n",
      "I will execute always\n"
     ]
    }
   ],
   "source": [
    "try:\n",
    "    f = open(\"etext1.txt\",\"w\")\n",
    "    f.write(\"this is my msg\")\n",
    "except Exception as e :\n",
    "    print(\"There is some issue with my code\",e)\n",
    "else :\n",
    "    f.close()\n",
    "    print(\"this block will execute once try will execute itself without an exception\")\n",
    "finally:\n",
    "    print(\"I will execute always\")"
   ]
  },
  {
   "cell_type": "code",
   "execution_count": null,
   "id": "f42732c5",
   "metadata": {},
   "outputs": [],
   "source": []
  }
 ],
 "metadata": {
  "kernelspec": {
   "display_name": "Python 3 (ipykernel)",
   "language": "python",
   "name": "python3"
  },
  "language_info": {
   "codemirror_mode": {
    "name": "ipython",
    "version": 3
   },
   "file_extension": ".py",
   "mimetype": "text/x-python",
   "name": "python",
   "nbconvert_exporter": "python",
   "pygments_lexer": "ipython3",
   "version": "3.9.13"
  }
 },
 "nbformat": 4,
 "nbformat_minor": 5
}
