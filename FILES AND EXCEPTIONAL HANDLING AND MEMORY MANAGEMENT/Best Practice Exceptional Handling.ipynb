{
 "cells": [
  {
   "cell_type": "code",
   "execution_count": 1,
   "id": "1558eab0",
   "metadata": {},
   "outputs": [
    {
     "name": "stdout",
     "output_type": "stream",
     "text": [
      "division by zero\n"
     ]
    }
   ],
   "source": [
    "# use always a specific exception\n",
    "try :\n",
    "    10/0\n",
    "except Exception as e :\n",
    "    print(e)"
   ]
  },
  {
   "cell_type": "code",
   "execution_count": 2,
   "id": "3f4a5af1",
   "metadata": {},
   "outputs": [
    {
     "name": "stdout",
     "output_type": "stream",
     "text": [
      "division by zero\n"
     ]
    }
   ],
   "source": [
    "try :\n",
    "    10/0\n",
    "except ZeroDivisionError as e :\n",
    "    print(e)"
   ]
  },
  {
   "cell_type": "code",
   "execution_count": 3,
   "id": "34847a41",
   "metadata": {},
   "outputs": [
    {
     "name": "stdout",
     "output_type": "stream",
     "text": [
      "This is my zero division type error which i am handling. division by zero\n"
     ]
    }
   ],
   "source": [
    "# print always a valid msg\n",
    "try :\n",
    "    10/0\n",
    "except ZeroDivisionError as e :\n",
    "    print(\"This is my zero division type error which i am handling.\",e)"
   ]
  },
  {
   "cell_type": "code",
   "execution_count": 5,
   "id": "38d81dd8",
   "metadata": {},
   "outputs": [],
   "source": [
    "# always try to log\n",
    "import logging\n",
    "logging.basicConfig(filename=\"error.log\",level=logging.ERROR)\n",
    "try :\n",
    "    10/0\n",
    "except ZeroDivisionError as e :\n",
    "    logging.error(\"This is my zero division type error which i am handling {}\".format(e))"
   ]
  },
  {
   "cell_type": "code",
   "execution_count": 6,
   "id": "c71fe9bd",
   "metadata": {},
   "outputs": [],
   "source": [
    "# always avoid to write multiple exception handling\n",
    "try :\n",
    "    10/0\n",
    "except FileNotFoundError as e :\n",
    "    logging.error(\"This is my file not found type error which i am handling {}\".format(e))\n",
    "except AttributeError as e :\n",
    "    logging.error(\"This is my attribute type error which i am handling {}\".format(e))\n",
    "except ZeroDivisionError as e :\n",
    "    logging.error(\"This is my zero division type error which i am handling {}\".format(e))"
   ]
  },
  {
   "cell_type": "code",
   "execution_count": 7,
   "id": "3ff76bb0",
   "metadata": {},
   "outputs": [],
   "source": [
    "# always try to prepare proper documentation"
   ]
  },
  {
   "cell_type": "code",
   "execution_count": 8,
   "id": "5989f8b9",
   "metadata": {},
   "outputs": [],
   "source": [
    "# clean up all the resources\n",
    "\n",
    "try :\n",
    "    with open(\"test.txt\",\"w\") as f :\n",
    "        f.write(\"this is my msg to my file.\")\n",
    "except FileNotFoundError as e :\n",
    "    logging.error(\"This is my file not found type error which i am handling {}\".format(e))\n",
    "finally :\n",
    "    f.close()"
   ]
  },
  {
   "cell_type": "code",
   "execution_count": null,
   "id": "06f5d27f",
   "metadata": {},
   "outputs": [],
   "source": []
  }
 ],
 "metadata": {
  "kernelspec": {
   "display_name": "Python 3 (ipykernel)",
   "language": "python",
   "name": "python3"
  },
  "language_info": {
   "codemirror_mode": {
    "name": "ipython",
    "version": 3
   },
   "file_extension": ".py",
   "mimetype": "text/x-python",
   "name": "python",
   "nbconvert_exporter": "python",
   "pygments_lexer": "ipython3",
   "version": "3.9.13"
  }
 },
 "nbformat": 4,
 "nbformat_minor": 5
}
