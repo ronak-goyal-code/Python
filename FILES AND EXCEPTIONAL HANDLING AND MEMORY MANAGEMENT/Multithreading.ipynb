{
 "cells": [
  {
   "cell_type": "code",
   "execution_count": 1,
   "id": "6871f429",
   "metadata": {},
   "outputs": [],
   "source": [
    "import threading"
   ]
  },
  {
   "cell_type": "code",
   "execution_count": 2,
   "id": "cd360b9d",
   "metadata": {},
   "outputs": [],
   "source": [
    "def test(id):\n",
    "    print(\"This is my test id %d\"% id)"
   ]
  },
  {
   "cell_type": "code",
   "execution_count": 3,
   "id": "13181f7f",
   "metadata": {},
   "outputs": [
    {
     "name": "stdout",
     "output_type": "stream",
     "text": [
      "This is my test id 10\n"
     ]
    }
   ],
   "source": [
    "test(10)"
   ]
  },
  {
   "cell_type": "code",
   "execution_count": 4,
   "id": "a59351cc",
   "metadata": {},
   "outputs": [
    {
     "name": "stdout",
     "output_type": "stream",
     "text": [
      "This is my test id 1\n"
     ]
    }
   ],
   "source": [
    "test(1)"
   ]
  },
  {
   "cell_type": "code",
   "execution_count": 5,
   "id": "6a0c6bf1",
   "metadata": {},
   "outputs": [
    {
     "name": "stdout",
     "output_type": "stream",
     "text": [
      "This is my test id 3\n"
     ]
    }
   ],
   "source": [
    "test(3)"
   ]
  },
  {
   "cell_type": "code",
   "execution_count": 12,
   "id": "80976032",
   "metadata": {},
   "outputs": [],
   "source": [
    "thred = [threading.Thread(target=test,args=(i,)) for i in [10,1,3]]"
   ]
  },
  {
   "cell_type": "code",
   "execution_count": 13,
   "id": "aa803559",
   "metadata": {},
   "outputs": [
    {
     "data": {
      "text/plain": [
       "[<Thread(Thread-11, initial)>,\n",
       " <Thread(Thread-12, initial)>,\n",
       " <Thread(Thread-13, initial)>]"
      ]
     },
     "execution_count": 13,
     "metadata": {},
     "output_type": "execute_result"
    }
   ],
   "source": [
    "thred"
   ]
  },
  {
   "cell_type": "code",
   "execution_count": 14,
   "id": "04c5d1b3",
   "metadata": {},
   "outputs": [
    {
     "name": "stdout",
     "output_type": "stream",
     "text": [
      "This is my test id 10\n",
      "This is my test id 1\n",
      "This is my test id 3\n"
     ]
    }
   ],
   "source": [
    "for t in thred:\n",
    "    t.start()"
   ]
  },
  {
   "cell_type": "code",
   "execution_count": 15,
   "id": "9589d428",
   "metadata": {},
   "outputs": [],
   "source": [
    "import urllib.request\n",
    "\n",
    "def file_download(url,filename):\n",
    "    urllib.request.urlretrieve(url,filename)"
   ]
  },
  {
   "cell_type": "code",
   "execution_count": 21,
   "id": "e90d797b",
   "metadata": {},
   "outputs": [],
   "source": [
    "# Not working for url \n",
    "#file_download('url1','file1')"
   ]
  },
  {
   "cell_type": "code",
   "execution_count": 22,
   "id": "40c27909",
   "metadata": {},
   "outputs": [],
   "source": [
    "# url_list = ['url_1','url_2','url_3']"
   ]
  },
  {
   "cell_type": "code",
   "execution_count": 23,
   "id": "1533d013",
   "metadata": {},
   "outputs": [],
   "source": [
    "# url_list"
   ]
  },
  {
   "cell_type": "code",
   "execution_count": 24,
   "id": "181df6c7",
   "metadata": {},
   "outputs": [],
   "source": [
    "# data_file_list = ['data1.txt','data2.txt','data3.txt']"
   ]
  },
  {
   "cell_type": "code",
   "execution_count": 25,
   "id": "145d6b60",
   "metadata": {},
   "outputs": [],
   "source": [
    "# data_file_list"
   ]
  },
  {
   "cell_type": "code",
   "execution_count": 26,
   "id": "36cba3db",
   "metadata": {},
   "outputs": [],
   "source": [
    "# thred = [threading.Thread(target = file_download , args = (url_list[i],data_file_list[i]) for i in range(len(url_list)))]"
   ]
  },
  {
   "cell_type": "code",
   "execution_count": 27,
   "id": "e0e7c2a1",
   "metadata": {},
   "outputs": [],
   "source": [
    "# for t in thred:\n",
    "#     t.start()"
   ]
  },
  {
   "cell_type": "code",
   "execution_count": 34,
   "id": "93f81325",
   "metadata": {},
   "outputs": [],
   "source": [
    "import time"
   ]
  },
  {
   "cell_type": "code",
   "execution_count": 35,
   "id": "b88b6e66",
   "metadata": {},
   "outputs": [],
   "source": [
    "def test2(x) : \n",
    "    for i in range(10) : \n",
    "        print(\" test1 print the value of x %d and print the value of i %d \" %(x,i))\n",
    "        time.sleep(1)"
   ]
  },
  {
   "cell_type": "code",
   "execution_count": 38,
   "id": "8ffc9e62",
   "metadata": {},
   "outputs": [
    {
     "name": "stdout",
     "output_type": "stream",
     "text": [
      " test1 print the value of x 10 and print the value of i 0 \n",
      " test1 print the value of x 10 and print the value of i 1 \n",
      " test1 print the value of x 10 and print the value of i 2 \n",
      " test1 print the value of x 10 and print the value of i 3 \n",
      " test1 print the value of x 10 and print the value of i 4 \n",
      " test1 print the value of x 10 and print the value of i 5 \n",
      " test1 print the value of x 10 and print the value of i 6 \n",
      " test1 print the value of x 10 and print the value of i 7 \n",
      " test1 print the value of x 10 and print the value of i 8 \n",
      " test1 print the value of x 10 and print the value of i 9 \n"
     ]
    }
   ],
   "source": [
    "test2(10)"
   ]
  },
  {
   "cell_type": "code",
   "execution_count": 36,
   "id": "e7fcd460",
   "metadata": {},
   "outputs": [],
   "source": [
    "thread2 = [threading.Thread(target=test2 , args=(i,)) for i in [100 , 10,20,5]]"
   ]
  },
  {
   "cell_type": "code",
   "execution_count": 37,
   "id": "cb12c6f8",
   "metadata": {},
   "outputs": [
    {
     "name": "stdout",
     "output_type": "stream",
     "text": [
      " test1 print the value of x 100 and print the value of i 0 \n",
      " test1 print the value of x 10 and print the value of i 0 \n",
      " test1 print the value of x 20 and print the value of i 0 \n",
      " test1 print the value of x 5 and print the value of i 0 \n",
      " test1 print the value of x 20 and print the value of i 1  test1 print the value of x 5 and print the value of i 1 \n",
      "\n",
      " test1 print the value of x 10 and print the value of i 1 \n",
      " test1 print the value of x 100 and print the value of i 1 \n",
      " test1 print the value of x 100 and print the value of i 2  test1 print the value of x 20 and print the value of i 2 \n",
      " test1 print the value of x 10 and print the value of i 2 \n",
      " test1 print the value of x 5 and print the value of i 2 \n",
      "\n",
      " test1 print the value of x 20 and print the value of i 3  test1 print the value of x 10 and print the value of i 3 \n",
      " test1 print the value of x 100 and print the value of i 3 \n",
      " test1 print the value of x 5 and print the value of i 3 \n",
      "\n",
      " test1 print the value of x 10 and print the value of i 4  test1 print the value of x 100 and print the value of i 4 \n",
      "\n",
      " test1 print the value of x 20 and print the value of i 4 \n",
      " test1 print the value of x 5 and print the value of i 4 \n",
      " test1 print the value of x 20 and print the value of i 5  test1 print the value of x 10 and print the value of i 5 \n",
      " test1 print the value of x 100 and print the value of i 5 \n",
      " test1 print the value of x 5 and print the value of i 5 \n",
      "\n",
      " test1 print the value of x 10 and print the value of i 6  test1 print the value of x 5 and print the value of i 6 \n",
      "\n",
      " test1 print the value of x 100 and print the value of i 6 \n",
      " test1 print the value of x 20 and print the value of i 6 \n",
      " test1 print the value of x 100 and print the value of i 7  test1 print the value of x 20 and print the value of i 7 \n",
      "\n",
      " test1 print the value of x 10 and print the value of i 7 \n",
      " test1 print the value of x 5 and print the value of i 7 \n",
      " test1 print the value of x 5 and print the value of i 8 \n",
      " test1 print the value of x 10 and print the value of i 8 \n",
      " test1 print the value of x 100 and print the value of i 8 \n",
      " test1 print the value of x 20 and print the value of i 8 \n",
      " test1 print the value of x 5 and print the value of i 9 \n",
      " test1 print the value of x 100 and print the value of i 9 \n",
      " test1 print the value of x 10 and print the value of i 9 \n",
      " test1 print the value of x 20 and print the value of i 9 \n"
     ]
    }
   ],
   "source": [
    "for t in thread2:\n",
    "    t.start()"
   ]
  },
  {
   "cell_type": "code",
   "execution_count": 39,
   "id": "40cff5db",
   "metadata": {},
   "outputs": [
    {
     "name": "stdout",
     "output_type": "stream",
     "text": [
      "value of x 1 and value of shareed_var 1 \n",
      "value of x 2 and value of shareed_var 2 \n",
      "value of x 3 and value of shareed_var 3 \n",
      "value of x 4 and value of shareed_var 4 \n",
      "value of x 4 and value of shareed_var 5 \n",
      "value of x 5 and value of shareed_var 6 \n"
     ]
    }
   ],
   "source": [
    "shared_var = 0 \n",
    "lock_var = threading.Lock()\n",
    "def test4(x) : \n",
    "    global shared_var\n",
    "    with lock_var : \n",
    "        shared_var = shared_var + 1\n",
    "        print(\"value of x %d and value of shareed_var %d \" %(x, shared_var))\n",
    "        time.sleep(1)\n",
    " \n",
    "thread5  = [threading.Thread(target=test4 , args = (i,)) for i in [1,2,3,4,4,5]]\n",
    "for t in thread5 : \n",
    "    t.start()"
   ]
  },
  {
   "cell_type": "code",
   "execution_count": null,
   "id": "7ac6f563",
   "metadata": {},
   "outputs": [],
   "source": []
  }
 ],
 "metadata": {
  "kernelspec": {
   "display_name": "Python 3 (ipykernel)",
   "language": "python",
   "name": "python3"
  },
  "language_info": {
   "codemirror_mode": {
    "name": "ipython",
    "version": 3
   },
   "file_extension": ".py",
   "mimetype": "text/x-python",
   "name": "python",
   "nbconvert_exporter": "python",
   "pygments_lexer": "ipython3",
   "version": "3.9.13"
  }
 },
 "nbformat": 4,
 "nbformat_minor": 5
}
