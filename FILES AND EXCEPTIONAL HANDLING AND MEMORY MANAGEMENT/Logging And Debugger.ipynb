{
 "cells": [
  {
   "cell_type": "code",
   "execution_count": 1,
   "id": "9dbcc842",
   "metadata": {},
   "outputs": [
    {
     "name": "stdout",
     "output_type": "stream",
     "text": [
      "this is my print statement.\n"
     ]
    }
   ],
   "source": [
    "print(\"this is my print statement.\")"
   ]
  },
  {
   "cell_type": "code",
   "execution_count": 1,
   "id": "fa4e1c6a",
   "metadata": {},
   "outputs": [],
   "source": [
    "import logging"
   ]
  },
  {
   "cell_type": "code",
   "execution_count": 3,
   "id": "a7c59516",
   "metadata": {},
   "outputs": [],
   "source": [
    "logging.basicConfig(filename = \"text.log\",level = logging.INFO)"
   ]
  },
  {
   "cell_type": "code",
   "execution_count": 4,
   "id": "f271d348",
   "metadata": {},
   "outputs": [],
   "source": [
    "logging.info(\"This is my line of execution.\")"
   ]
  },
  {
   "cell_type": "code",
   "execution_count": 5,
   "id": "ebb14e41",
   "metadata": {},
   "outputs": [],
   "source": [
    "logging.error(\"This is my error.\")"
   ]
  },
  {
   "cell_type": "code",
   "execution_count": 6,
   "id": "42e73dd2",
   "metadata": {},
   "outputs": [],
   "source": [
    "logging.critical(\"This is my critical.\")"
   ]
  },
  {
   "cell_type": "code",
   "execution_count": 8,
   "id": "641cf316",
   "metadata": {},
   "outputs": [],
   "source": [
    "logging.warning(\"This is my waring.\")"
   ]
  },
  {
   "cell_type": "code",
   "execution_count": 9,
   "id": "106726d8",
   "metadata": {},
   "outputs": [],
   "source": [
    "logging.debug(\"This is my info related to debug.\")"
   ]
  },
  {
   "cell_type": "code",
   "execution_count": 13,
   "id": "072fc78d",
   "metadata": {},
   "outputs": [
    {
     "ename": "AttributeError",
     "evalue": "module 'logging' has no attribute 'notset'",
     "output_type": "error",
     "traceback": [
      "\u001b[1;31m---------------------------------------------------------------------------\u001b[0m",
      "\u001b[1;31mAttributeError\u001b[0m                            Traceback (most recent call last)",
      "\u001b[1;32m~\\AppData\\Local\\Temp\\ipykernel_10384\\3137616244.py\u001b[0m in \u001b[0;36m<module>\u001b[1;34m\u001b[0m\n\u001b[1;32m----> 1\u001b[1;33m \u001b[0mlogging\u001b[0m\u001b[1;33m.\u001b[0m\u001b[0mnotset\u001b[0m\u001b[1;33m(\u001b[0m\u001b[1;34m\"This is my notset related log.\"\u001b[0m\u001b[1;33m)\u001b[0m\u001b[1;33m\u001b[0m\u001b[1;33m\u001b[0m\u001b[0m\n\u001b[0m",
      "\u001b[1;31mAttributeError\u001b[0m: module 'logging' has no attribute 'notset'"
     ]
    }
   ],
   "source": [
    "logging.notset(\"This is my notset related log.\")"
   ]
  },
  {
   "cell_type": "markdown",
   "id": "9349a550",
   "metadata": {},
   "source": [
    "1. NOTSET\n",
    "2. DEBUG\n",
    "3. INFO\n",
    "4. WARING\n",
    "5. ERROR\n",
    "6. CRITICAL"
   ]
  },
  {
   "cell_type": "code",
   "execution_count": 14,
   "id": "e9497739",
   "metadata": {},
   "outputs": [],
   "source": [
    "logging.shutdown()"
   ]
  },
  {
   "cell_type": "code",
   "execution_count": 2,
   "id": "8860f69e",
   "metadata": {},
   "outputs": [],
   "source": [
    "logging.basicConfig(filename = \"text1.log\",level = logging.DEBUG , format = '%(asctime)s %(message)s')"
   ]
  },
  {
   "cell_type": "code",
   "execution_count": 3,
   "id": "f12d1cf2",
   "metadata": {},
   "outputs": [],
   "source": [
    "logging.info(\"This is my info log.\")"
   ]
  },
  {
   "cell_type": "code",
   "execution_count": 4,
   "id": "67d29664",
   "metadata": {},
   "outputs": [],
   "source": [
    "logging.debug(\"This is my debug log.\")"
   ]
  },
  {
   "cell_type": "code",
   "execution_count": 6,
   "id": "31c53e8b",
   "metadata": {},
   "outputs": [],
   "source": [
    "logging.warning(\"This is my waring.\")"
   ]
  },
  {
   "cell_type": "code",
   "execution_count": 7,
   "id": "7f43a0b0",
   "metadata": {},
   "outputs": [],
   "source": [
    "logging.shutdown()"
   ]
  },
  {
   "cell_type": "code",
   "execution_count": 2,
   "id": "cbc88012",
   "metadata": {},
   "outputs": [],
   "source": [
    "logging.basicConfig(filename = \"text2.log\",level = logging.DEBUG,\n",
    "                  format = '%(asctime)s %(name)s %(levelname)s %(message)s')"
   ]
  },
  {
   "cell_type": "code",
   "execution_count": 3,
   "id": "ecb4f325",
   "metadata": {},
   "outputs": [],
   "source": [
    "logging.info(\"This is my info log.\")"
   ]
  },
  {
   "cell_type": "code",
   "execution_count": 4,
   "id": "e4d9c9ad",
   "metadata": {},
   "outputs": [],
   "source": [
    "l = [1,2,3,[4,5,6],\"sudh\",\"kumar\"]"
   ]
  },
  {
   "cell_type": "code",
   "execution_count": 9,
   "id": "84490632",
   "metadata": {},
   "outputs": [],
   "source": [
    "l1_int = []\n",
    "l2_str = []\n",
    "for i in l:\n",
    "    logging.info(\"This is my start of my first loop {}\".format(l))\n",
    "    logging.info(\"This is the value of i am logging {}\".format(i))\n",
    "    if type(i) == list:\n",
    "        for j in i:\n",
    "            logging.info(\"logging my j {j} and i is {i}\".format(i = i,j = j))\n",
    "            if type(j) == int:\n",
    "                l1_int.append(j)\n",
    "    elif type(i) == int:\n",
    "        l1_int.append(i)\n",
    "    else :\n",
    "        if type(i) == str:\n",
    "            l2_str.append(i)\n",
    "logging.info(\"This is my final result with all int {l1} , with all str {l2}\".format(l1 = l1_int , l2 = l2_str))"
   ]
  },
  {
   "cell_type": "code",
   "execution_count": 6,
   "id": "7c1e9213",
   "metadata": {},
   "outputs": [
    {
     "data": {
      "text/plain": [
       "[1, 2, 3, 4, 5, 6]"
      ]
     },
     "execution_count": 6,
     "metadata": {},
     "output_type": "execute_result"
    }
   ],
   "source": [
    "l1_int"
   ]
  },
  {
   "cell_type": "code",
   "execution_count": 7,
   "id": "82c051a4",
   "metadata": {},
   "outputs": [
    {
     "data": {
      "text/plain": [
       "['sudh', 'kumar']"
      ]
     },
     "execution_count": 7,
     "metadata": {},
     "output_type": "execute_result"
    }
   ],
   "source": [
    "l2_str"
   ]
  },
  {
   "cell_type": "code",
   "execution_count": null,
   "id": "73ceef17",
   "metadata": {},
   "outputs": [],
   "source": []
  }
 ],
 "metadata": {
  "kernelspec": {
   "display_name": "Python 3 (ipykernel)",
   "language": "python",
   "name": "python3"
  },
  "language_info": {
   "codemirror_mode": {
    "name": "ipython",
    "version": 3
   },
   "file_extension": ".py",
   "mimetype": "text/x-python",
   "name": "python",
   "nbconvert_exporter": "python",
   "pygments_lexer": "ipython3",
   "version": "3.9.13"
  }
 },
 "nbformat": 4,
 "nbformat_minor": 5
}
