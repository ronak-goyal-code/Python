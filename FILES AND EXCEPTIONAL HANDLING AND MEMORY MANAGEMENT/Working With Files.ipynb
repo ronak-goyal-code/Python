{
 "cells": [
  {
   "cell_type": "code",
   "execution_count": 44,
   "id": "fa2ff9ef",
   "metadata": {},
   "outputs": [],
   "source": [
    "f = open(\"text.txt\",'w')"
   ]
  },
  {
   "cell_type": "code",
   "execution_count": 45,
   "id": "101b676d",
   "metadata": {},
   "outputs": [
    {
     "data": {
      "text/plain": [
       "'C:\\\\Users\\\\kk\\\\Desktop\\\\PYTHON\\\\FILES AND EXCEPTIONAL HANDLING AND MEMORY MANAGEMENT'"
      ]
     },
     "execution_count": 45,
     "metadata": {},
     "output_type": "execute_result"
    }
   ],
   "source": [
    "pwd"
   ]
  },
  {
   "cell_type": "code",
   "execution_count": 46,
   "id": "5b68684b",
   "metadata": {},
   "outputs": [
    {
     "name": "stdout",
     "output_type": "stream",
     "text": [
      " Volume in drive C has no label.\n",
      " Volume Serial Number is A81B-5AFA\n",
      "\n",
      " Directory of C:\\Users\\kk\\Desktop\\PYTHON\\FILES AND EXCEPTIONAL HANDLING AND MEMORY MANAGEMENT\n",
      "\n",
      "12/11/2023  06:54 PM    <DIR>          .\n",
      "12/11/2023  12:36 PM    <DIR>          ..\n",
      "12/11/2023  06:39 PM    <DIR>          .ipynb_checkpoints\n",
      "12/11/2023  06:56 PM                 0 text.txt\n",
      "12/11/2023  06:54 PM             5,349 Working With Files.ipynb\n",
      "               2 File(s)          5,349 bytes\n",
      "               3 Dir(s)  26,432,126,976 bytes free\n"
     ]
    }
   ],
   "source": [
    "ls"
   ]
  },
  {
   "cell_type": "code",
   "execution_count": 47,
   "id": "34674ec3",
   "metadata": {},
   "outputs": [
    {
     "data": {
      "text/plain": [
       "45"
      ]
     },
     "execution_count": 47,
     "metadata": {},
     "output_type": "execute_result"
    }
   ],
   "source": [
    "f.write(\"This is my first write operation in the file.\")"
   ]
  },
  {
   "cell_type": "code",
   "execution_count": 48,
   "id": "f4f02bca",
   "metadata": {},
   "outputs": [
    {
     "data": {
      "text/plain": [
       "46"
      ]
     },
     "execution_count": 48,
     "metadata": {},
     "output_type": "execute_result"
    }
   ],
   "source": [
    "f.write(\"this is my second write operation in the file.\")"
   ]
  },
  {
   "cell_type": "code",
   "execution_count": 49,
   "id": "0c05d68f",
   "metadata": {},
   "outputs": [],
   "source": [
    "f.close()"
   ]
  },
  {
   "cell_type": "code",
   "execution_count": 50,
   "id": "72e9e60b",
   "metadata": {},
   "outputs": [],
   "source": [
    "data = open(\"text.txt\",\"r\")"
   ]
  },
  {
   "cell_type": "code",
   "execution_count": 51,
   "id": "cfdbbe70",
   "metadata": {},
   "outputs": [
    {
     "data": {
      "text/plain": [
       "'This is my first write operation in the file.this is my second write operation in the file.'"
      ]
     },
     "execution_count": 51,
     "metadata": {},
     "output_type": "execute_result"
    }
   ],
   "source": [
    "data.read()"
   ]
  },
  {
   "cell_type": "code",
   "execution_count": 52,
   "id": "44b55b75",
   "metadata": {},
   "outputs": [
    {
     "data": {
      "text/plain": [
       "''"
      ]
     },
     "execution_count": 52,
     "metadata": {},
     "output_type": "execute_result"
    }
   ],
   "source": [
    "data.read()"
   ]
  },
  {
   "cell_type": "code",
   "execution_count": 53,
   "id": "c4902c33",
   "metadata": {},
   "outputs": [
    {
     "data": {
      "text/plain": [
       "0"
      ]
     },
     "execution_count": 53,
     "metadata": {},
     "output_type": "execute_result"
    }
   ],
   "source": [
    "data.seek(0) # to reset curcle ."
   ]
  },
  {
   "cell_type": "code",
   "execution_count": 54,
   "id": "d9fde799",
   "metadata": {},
   "outputs": [
    {
     "data": {
      "text/plain": [
       "'This is my first write operation in the file.this is my second write operation in the file.'"
      ]
     },
     "execution_count": 54,
     "metadata": {},
     "output_type": "execute_result"
    }
   ],
   "source": [
    "data.read()"
   ]
  },
  {
   "cell_type": "code",
   "execution_count": 55,
   "id": "270f99e7",
   "metadata": {},
   "outputs": [
    {
     "data": {
      "text/plain": [
       "12"
      ]
     },
     "execution_count": 55,
     "metadata": {},
     "output_type": "execute_result"
    }
   ],
   "source": [
    "data.seek(12) "
   ]
  },
  {
   "cell_type": "code",
   "execution_count": 56,
   "id": "93e1a2d7",
   "metadata": {},
   "outputs": [
    {
     "data": {
      "text/plain": [
       "'irst write operation in the file.this is my second write operation in the file.'"
      ]
     },
     "execution_count": 56,
     "metadata": {},
     "output_type": "execute_result"
    }
   ],
   "source": [
    "data.read()"
   ]
  },
  {
   "cell_type": "code",
   "execution_count": 57,
   "id": "18b446af",
   "metadata": {},
   "outputs": [
    {
     "data": {
      "text/plain": [
       "0"
      ]
     },
     "execution_count": 57,
     "metadata": {},
     "output_type": "execute_result"
    }
   ],
   "source": [
    "data.seek(0)"
   ]
  },
  {
   "cell_type": "code",
   "execution_count": 58,
   "id": "9014fbe9",
   "metadata": {},
   "outputs": [],
   "source": [
    "data1 = open(\"text.txt\",\"r\")"
   ]
  },
  {
   "cell_type": "code",
   "execution_count": 59,
   "id": "637fb71c",
   "metadata": {},
   "outputs": [
    {
     "name": "stdout",
     "output_type": "stream",
     "text": [
      "This is my first write operation in the file.this is my second write operation in the file.\n"
     ]
    }
   ],
   "source": [
    "for i in data1:\n",
    "    print(i)"
   ]
  },
  {
   "cell_type": "code",
   "execution_count": 60,
   "id": "b29ef50d",
   "metadata": {},
   "outputs": [],
   "source": [
    "import os"
   ]
  },
  {
   "cell_type": "code",
   "execution_count": 61,
   "id": "8353abe9",
   "metadata": {},
   "outputs": [
    {
     "data": {
      "text/plain": [
       "91"
      ]
     },
     "execution_count": 61,
     "metadata": {},
     "output_type": "execute_result"
    }
   ],
   "source": [
    "os.path.getsize(\"text.txt\")"
   ]
  },
  {
   "cell_type": "code",
   "execution_count": 62,
   "id": "67b7db29",
   "metadata": {},
   "outputs": [],
   "source": [
    "import shutil"
   ]
  },
  {
   "cell_type": "code",
   "execution_count": 63,
   "id": "564e7997",
   "metadata": {},
   "outputs": [
    {
     "data": {
      "text/plain": [
       "'new_text.txt'"
      ]
     },
     "execution_count": 63,
     "metadata": {},
     "output_type": "execute_result"
    }
   ],
   "source": [
    "shutil.copy(\"text.txt\",\"new_text.txt\")"
   ]
  },
  {
   "cell_type": "code",
   "execution_count": 65,
   "id": "3fbec127",
   "metadata": {},
   "outputs": [],
   "source": [
    "os.remove(\"new_text.txt\")"
   ]
  },
  {
   "cell_type": "code",
   "execution_count": 66,
   "id": "5731d9db",
   "metadata": {},
   "outputs": [],
   "source": [
    "data.close()"
   ]
  },
  {
   "cell_type": "code",
   "execution_count": 67,
   "id": "f2a9b084",
   "metadata": {},
   "outputs": [],
   "source": [
    "data1.close()"
   ]
  },
  {
   "cell_type": "code",
   "execution_count": 69,
   "id": "ff070a58",
   "metadata": {},
   "outputs": [
    {
     "data": {
      "text/plain": [
       "'new_text.txt'"
      ]
     },
     "execution_count": 69,
     "metadata": {},
     "output_type": "execute_result"
    }
   ],
   "source": [
    "shutil.copy(\"text.txt\",\"new_text.txt\")"
   ]
  },
  {
   "cell_type": "code",
   "execution_count": 70,
   "id": "a7c0bee0",
   "metadata": {},
   "outputs": [],
   "source": [
    "os.remove(\"text.txt\")"
   ]
  },
  {
   "cell_type": "code",
   "execution_count": 71,
   "id": "929b6aa5",
   "metadata": {},
   "outputs": [
    {
     "name": "stdout",
     "output_type": "stream",
     "text": [
      "This is my first write operation in the file.this is my second write operation in the file.\n"
     ]
    }
   ],
   "source": [
    "with open(\"new_text.txt\",\"r\") as f:\n",
    "    print(f.read())"
   ]
  },
  {
   "cell_type": "code",
   "execution_count": 72,
   "id": "fdf812c2",
   "metadata": {},
   "outputs": [],
   "source": [
    "os.rename(\"new_text.txt\",\"text1.txt\")"
   ]
  },
  {
   "cell_type": "code",
   "execution_count": null,
   "id": "653b8403",
   "metadata": {},
   "outputs": [],
   "source": []
  }
 ],
 "metadata": {
  "kernelspec": {
   "display_name": "Python 3 (ipykernel)",
   "language": "python",
   "name": "python3"
  },
  "language_info": {
   "codemirror_mode": {
    "name": "ipython",
    "version": 3
   },
   "file_extension": ".py",
   "mimetype": "text/x-python",
   "name": "python",
   "nbconvert_exporter": "python",
   "pygments_lexer": "ipython3",
   "version": "3.9.13"
  }
 },
 "nbformat": 4,
 "nbformat_minor": 5
}
