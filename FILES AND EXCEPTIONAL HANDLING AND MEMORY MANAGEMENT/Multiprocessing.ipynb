{
 "cells": [
  {
   "cell_type": "code",
   "execution_count": 1,
   "id": "409ca536-ff90-4d5d-a780-98f3552eecae",
   "metadata": {},
   "outputs": [
    {
     "name": "stdout",
     "output_type": "stream",
     "text": [
      "This is my main program.\n"
     ]
    }
   ],
   "source": [
    "import multiprocessing\n",
    "\n",
    "def test():\n",
    "    print(\"This is my multiprocessing program.\")\n",
    "\n",
    "    \n",
    "if __name__ == \"__main__\":\n",
    "    m = multiprocessing.Process(target=test)\n",
    "    print(\"This is my main program.\")\n",
    "    m.start()\n",
    "    m.join()"
   ]
  },
  {
   "cell_type": "code",
   "execution_count": 2,
   "id": "a6a88188-3456-4c75-9f9e-ebecc0c15c36",
   "metadata": {},
   "outputs": [
    {
     "name": "stdout",
     "output_type": "stream",
     "text": [
      "This is my multiprocessing program.\n"
     ]
    }
   ],
   "source": [
    "test()"
   ]
  },
  {
   "cell_type": "code",
   "execution_count": 3,
   "id": "86027d44-fa58-45fd-a10c-13bf3d9b1ed1",
   "metadata": {},
   "outputs": [
    {
     "name": "stdout",
     "output_type": "stream",
     "text": [
      "[1, 4, 9, 16, 25, 36, 49, 64, 81]\n"
     ]
    }
   ],
   "source": [
    "def square(n):\n",
    "    return n**2\n",
    "\n",
    "if __name__ == \"__main__\":\n",
    "    with multiprocessing.Pool(processes=5) as pool :\n",
    "        out = pool.map(square,[1,2,3,4,5,6,7,8,9])\n",
    "        print(out)"
   ]
  },
  {
   "cell_type": "code",
   "execution_count": null,
   "id": "22b754ba-3deb-420b-bc0c-a4bd8dc4b565",
   "metadata": {},
   "outputs": [],
   "source": [
    "import multiprocessing\n",
    "\n",
    "def producer(q):\n",
    "    for i in [\"sudh\" , \"kumar\" , \"pwskills\" , \"krish\" , \"naik\"]:\n",
    "        q.put(i)\n",
    "\n",
    "def consumer(q):\n",
    "    while True:\n",
    "        item = q.get()\n",
    "        if item is None :\n",
    "            break\n",
    "        print(item)\n",
    "        \n",
    "if __name__ == \"__main__\" :\n",
    "    queue = multiprocessing.Queue()\n",
    "    m1 = multiprocessing.Process(target=producer,args=(queue,))\n",
    "    m2 = multiprocessing.Process(target=consumer,args=(queue,))\n",
    "    m1.start()\n",
    "    m2.start()\n",
    "    queue.put(\"xyz\")\n",
    "    m1.join()\n",
    "    m2.join()"
   ]
  },
  {
   "cell_type": "code",
   "execution_count": 5,
   "id": "5dd435f2-ba19-4ed7-aa13-3af972c3fbbf",
   "metadata": {},
   "outputs": [
    {
     "name": "stdout",
     "output_type": "stream",
     "text": [
      "[2, 3, 6, 7, 8, 8, 9, 3, 3, 3]\n"
     ]
    }
   ],
   "source": [
    "import multiprocessing\n",
    "\n",
    "def square(index , value ):\n",
    "    value[index] = value[index] **2\n",
    "    \n",
    "if __name__ == '__main__':\n",
    "    arr = multiprocessing.Array('i', [2,3,6,7,8,8,9,3,3,3])\n",
    "    process = []\n",
    "    for i in range(10) : \n",
    "        m = multiprocessing.Process(target=square , args = (i ,arr ))\n",
    "        process.append(m)\n",
    "        m.start()\n",
    "    for m in process:\n",
    "        m.join()\n",
    "    print(list(arr))"
   ]
  },
  {
   "cell_type": "code",
   "execution_count": 3,
   "id": "a041c51d-5d90-4c75-aacc-6b086409664c",
   "metadata": {},
   "outputs": [],
   "source": [
    "import multiprocessing\n",
    "\n",
    "def sender(conn , msg):\n",
    "    for i in msg:\n",
    "        conn.send(i)\n",
    "    conn.close()\n",
    "    \n",
    "def receive(conn) :\n",
    "    while True:\n",
    "        try:\n",
    "            msg = conn.recv()\n",
    "        except Exception as e :\n",
    "            print(e)\n",
    "            break\n",
    "        print(msg)\n",
    "\n",
    "if __name__ == '__main__':\n",
    "    msg = [\"my name is sudh\" , \"this is my msg  to my students \" , \"i am taking class for dsm \" , \"try to practice all the code \"]\n",
    "    parent_conn , child_conn = multiprocessing.Pipe()\n",
    "    m1 = multiprocessing.Process(target=sender , args = (child_conn , msg))\n",
    "    m2 = multiprocessing.Process(target=receive , args = (parent_conn,))\n",
    "    m1.start()\n",
    "    m2.start()\n",
    "    m1.join()\n",
    "    child_conn.close()\n",
    "    m2.join()\n",
    "    parent_conn.close()\n",
    "    "
   ]
  },
  {
   "cell_type": "code",
   "execution_count": null,
   "id": "1f280b1f-cafd-4c4b-92f1-116423fba92b",
   "metadata": {},
   "outputs": [],
   "source": []
  }
 ],
 "metadata": {
  "kernelspec": {
   "display_name": "Python 3 (ipykernel)",
   "language": "python",
   "name": "python3"
  },
  "language_info": {
   "codemirror_mode": {
    "name": "ipython",
    "version": 3
   },
   "file_extension": ".py",
   "mimetype": "text/x-python",
   "name": "python",
   "nbconvert_exporter": "python",
   "pygments_lexer": "ipython3",
   "version": "3.9.13"
  }
 },
 "nbformat": 4,
 "nbformat_minor": 5
}
